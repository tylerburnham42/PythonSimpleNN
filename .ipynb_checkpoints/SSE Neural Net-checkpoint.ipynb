{
 "cells": [
  {
   "cell_type": "markdown",
   "metadata": {},
   "source": [
    "## Import  \n",
    "This section is used to import all the data and convert it to numrical data that can be used to train the network."
   ]
  },
  {
   "cell_type": "code",
   "execution_count": null,
   "metadata": {
    "collapsed": false
   },
   "outputs": [],
   "source": [
    "import pandas as pd\n",
    "import numpy as np\n",
    "import matplotlib.pyplot as plt\n",
    "\n",
    "#Show the graphs inline with the code!\n",
    "%pylab inline"
   ]
  },
  {
   "cell_type": "markdown",
   "metadata": {
    "collapsed": false
   },
   "source": [
    "## XOR "
   ]
  },
  {
   "cell_type": "code",
   "execution_count": null,
   "metadata": {
    "collapsed": false
   },
   "outputs": [],
   "source": [
    "from pybrain.structure import FeedForwardNetwork\n",
    "from pybrain.structure import FullConnection\n",
    "from pybrain.datasets import SupervisedDataSet, ClassificationDataSet\n",
    "\n",
    "trainDS = SupervisedDataSet(2, 1)\n",
    "\n",
    "trainDS.addSample(('0', '0'), ('0',))\n",
    "trainDS.addSample(('0', '1'), ('1',))\n",
    "trainDS.addSample(('1', '0'), ('1',))\n",
    "trainDS.addSample(('1', '1'), ('0',))\n",
    "\n",
    "print(\"Training Data Length=\"+ str(len(trainDS)))\n",
    "print(trainDS)"
   ]
  },
  {
   "cell_type": "code",
   "execution_count": null,
   "metadata": {
    "collapsed": false
   },
   "outputs": [],
   "source": [
    "from pybrain.supervised.trainers import BackpropTrainer\n",
    "from pybrain.tools.shortcuts import buildNetwork\n",
    "from pybrain.structure import LinearLayer, SigmoidLayer, SoftmaxLayer, TanhLayer\n",
    "\n",
    "net = buildNetwork(2, #Number of Input Nodes\n",
    "                   25, # number of hidden units\n",
    "                   1, #Number of otput Nodes\n",
    "                   bias = True,\n",
    "                   hiddenclass = SigmoidLayer,\n",
    "                   outclass = SigmoidLayer\n",
    "                   )\n",
    "\n",
    "trainer = BackpropTrainer(net, trainDS, verbose = True, learningrate=.1, momentum=0.1)\n",
    "trainError = trainer.trainEpochs(epochs = 5000)\n",
    "\n",
    "#print(\"Length of Training = \" + str(len(trainError)))\n",
    "#print(trainError)\n",
    "#print(validError)\n",
    "\n",
    "plt.title('XOR - Training Error Plot')\n",
    "#trainErrorPlot = plt.plot(range(len(trainError)),trainError, label='Train Error')\n",
    "#validErrorPlot = plt.plot(range(len(validError)),validError, label='Validate Error')\n",
    "plt.xlabel('EPOCH #')\n",
    "plt.ylabel('MSE')\n",
    "plt.legend(loc='upper right')\n",
    "#fig = plt.gcf()"
   ]
  },
  {
   "cell_type": "code",
   "execution_count": null,
   "metadata": {
    "collapsed": false
   },
   "outputs": [],
   "source": [
    "file = open('XOR Output.txt','r')\n",
    "data = []\n",
    "for line in file:\n",
    "    data.append(float(line.replace(\"Total error:  \",\"\").strip()))\n",
    "\n",
    "    \n",
    "plt.scatter(x=range(len(data)), y=data, label='MSE', color = 'blue', )\n",
    "\n",
    "\n",
    "plt.title('XOR - Test Data Error')\n",
    "plt.xlabel('EPOCH')\n",
    "plt.ylabel('MSE')\n",
    "plt.legend(loc='upper right')\n",
    "plt.figure()\n",
    "plt.draw()"
   ]
  },
  {
   "cell_type": "code",
   "execution_count": null,
   "metadata": {
    "collapsed": false
   },
   "outputs": [],
   "source": [
    "print(\"Correct Output\")\n",
    "print(trainDS[\"target\"])\n",
    "\n",
    "results = net.activateOnDataset(trainDS)\n",
    "print(\"Results\")\n",
    "print(results)\n",
    "    \n",
    "\n",
    "\n",
    "\n",
    "\n",
    "plt.scatter(x=range(len(trainDS)),y=trainDS[\"target\"], label='Correct', color = 'blue')\n",
    "plt.scatter(x=range(len(trainDS)),y=results,\n",
    "           linewidth = 2,\n",
    "           color = 'red',  \n",
    "           label = 'NN Output')\n",
    "\n",
    "plt.title('XOR - Test Data Error')\n",
    "plt.xlabel('Data Number')\n",
    "plt.ylabel('Result')\n",
    "plt.legend(loc='upper left')\n",
    "plt.figure()\n",
    "plt.draw()\n",
    "\n",
    "#test.to_csv(\"Parsed/Saved Nets/Phonics_Final.csv\")"
   ]
  },
  {
   "cell_type": "markdown",
   "metadata": {
    "collapsed": true
   },
   "source": [
    "## Function Fitting"
   ]
  },
  {
   "cell_type": "markdown",
   "metadata": {
    "collapsed": false
   },
   "source": [
    "### X Squared"
   ]
  },
  {
   "cell_type": "code",
   "execution_count": null,
   "metadata": {
    "collapsed": false
   },
   "outputs": [],
   "source": [
    "from pybrain.supervised.trainers import BackpropTrainer\n",
    "\n",
    "trainer = BackpropTrainer(fnn, trainDS, verbose=True, learningrate=0.1, momentum=0.0)\n",
    "trainError = trainer.trainEpochs(epochs = 80)"
   ]
  },
  {
   "cell_type": "code",
   "execution_count": null,
   "metadata": {
    "collapsed": false
   },
   "outputs": [],
   "source": [
    "file = open('xSquared.txt','r')\n",
    "data = []\n",
    "for line in file:\n",
    "    data.append(float(line.replace(\"Total error:  \",\"\").strip()))\n",
    "\n",
    "    \n",
    "plt.scatter(x=range(len(data)), y=data, label='MSE', color = 'blue', )\n",
    "\n",
    "\n",
    "plt.title('X^2 - Test Data Error')\n",
    "plt.xlabel('EPOCH')\n",
    "plt.ylabel('MSE')\n",
    "plt.legend(loc='upper right')\n",
    "plt.figure()\n",
    "plt.draw()"
   ]
  },
  {
   "cell_type": "code",
   "execution_count": null,
   "metadata": {
    "collapsed": false
   },
   "outputs": [],
   "source": [
    "def testNet(inVal):\n",
    "    return int(fnn.activate(inVal)[0]) \n",
    "\n",
    "\n",
    "\n",
    "results = fnn.activateOnDataset(testDS)\n",
    "\n",
    "dataX = []\n",
    "for row in testingData:\n",
    "    dataX.append(row[0])\n",
    "dataY = []\n",
    "for row in testingData:\n",
    "    dataY.append(row[1])\n",
    "    \n",
    "sampleLine = [-2,2]\n",
    "\n",
    "\n",
    "\n",
    "plt.scatter(x=dataX, y=dataY, label='Correct')\n",
    "plt.scatter(x=dataX, y=results,\n",
    "           linewidth = 2,\n",
    "           color = 'blue',  \n",
    "           label = 'NN Output')\n",
    "\n",
    "plt.title('X^2 - Test Data Error')\n",
    "plt.xlabel('Input X Value')\n",
    "plt.ylabel('Output Y Value')\n",
    "plt.legend(loc='upper right')\n",
    "plt.figure()\n",
    "plt.draw()"
   ]
  },
  {
   "cell_type": "markdown",
   "metadata": {
    "collapsed": false
   },
   "source": [
    "### SinX \n"
   ]
  },
  {
   "cell_type": "code",
   "execution_count": null,
   "metadata": {
    "collapsed": false
   },
   "outputs": [],
   "source": [
    "from pybrain.supervised.trainers import BackpropTrainer\n",
    "\n",
    "trainer = BackpropTrainer(fnn, trainDS, verbose=True, learningrate=0.1, momentum=0.1)\n",
    "trainError = trainer.trainEpochs(epochs = 1000)"
   ]
  },
  {
   "cell_type": "code",
   "execution_count": null,
   "metadata": {
    "collapsed": false
   },
   "outputs": [],
   "source": [
    "def testNet(inVal):\n",
    "    return int(fnn.activate(inVal)[0]) \n",
    "\n",
    "\n",
    "\n",
    "results = fnn.activateOnDataset(testDS)\n",
    "\n",
    "dataX = []\n",
    "for row in testingData:\n",
    "    dataX.append(row[0])\n",
    "dataY = []\n",
    "for row in testingData:\n",
    "    dataY.append(row[1])\n",
    "    \n",
    "sampleLine = [-2,2]\n",
    "\n",
    "\n",
    "\n",
    "plt.scatter(x=dataX, y=dataY, label='Correct')\n",
    "plt.scatter(x=dataX, y=results,\n",
    "           linewidth = 2,\n",
    "           color = 'blue',  \n",
    "           label = 'NN Output')\n",
    "\n",
    "plt.title('Sin - Test Data Error')\n",
    "plt.xlabel('Input X Value')\n",
    "plt.ylabel('Output Y Value')\n",
    "plt.legend(loc='upper right')\n",
    "plt.figure()\n",
    "plt.draw()"
   ]
  },
  {
   "cell_type": "code",
   "execution_count": null,
   "metadata": {
    "collapsed": false
   },
   "outputs": [],
   "source": [
    "file = open('SinX.txt','r')\n",
    "data = []\n",
    "for line in file:\n",
    "    data.append(float(line.replace(\"Total error:  \",\"\").strip()))\n",
    "\n",
    "    \n",
    "plt.scatter(x=range(len(data)), y=data, label='MSE', color = 'blue', )\n",
    "\n",
    "\n",
    "plt.title('Sin(2Pi(X)) - Test Data Error')\n",
    "plt.xlabel('EPOCH')\n",
    "plt.ylabel('MSE')\n",
    "plt.legend(loc='upper right')\n",
    "plt.figure()\n",
    "plt.draw()"
   ]
  }
 ],
 "metadata": {
  "kernelspec": {
   "display_name": "Python 3",
   "language": "python",
   "name": "python3"
  },
  "language_info": {
   "codemirror_mode": {
    "name": "ipython",
    "version": 3
   },
   "file_extension": ".py",
   "mimetype": "text/x-python",
   "name": "python",
   "nbconvert_exporter": "python",
   "pygments_lexer": "ipython3",
   "version": "3.5.1"
  }
 },
 "nbformat": 4,
 "nbformat_minor": 0
}
